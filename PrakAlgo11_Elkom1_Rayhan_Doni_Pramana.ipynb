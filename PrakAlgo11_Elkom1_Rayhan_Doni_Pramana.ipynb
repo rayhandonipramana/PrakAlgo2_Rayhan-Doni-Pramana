{
  "nbformat": 4,
  "nbformat_minor": 0,
  "metadata": {
    "colab": {
      "provenance": [],
      "authorship_tag": "ABX9TyO1ak8sta+0S41b9H3Wf6Ra",
      "include_colab_link": true
    },
    "kernelspec": {
      "name": "python3",
      "display_name": "Python 3"
    },
    "language_info": {
      "name": "python"
    }
  },
  "cells": [
    {
      "cell_type": "markdown",
      "metadata": {
        "id": "view-in-github",
        "colab_type": "text"
      },
      "source": [
        "<a href=\"https://colab.research.google.com/github/rayhandonipramana/PraktikumAlgoritma_Rayhan-Doni-Pramana/blob/main/PrakAlgo11_Elkom1_Rayhan_Doni_Pramana.ipynb\" target=\"_parent\"><img src=\"https://colab.research.google.com/assets/colab-badge.svg\" alt=\"Open In Colab\"/></a>"
      ]
    },
    {
      "cell_type": "code",
      "execution_count": null,
      "metadata": {
        "colab": {
          "base_uri": "https://localhost:8080/"
        },
        "id": "L729zvUGqJgr",
        "outputId": "2f295e2c-1f71-4dc7-a41b-c4c2a79f7d93"
      },
      "outputs": [
        {
          "output_type": "stream",
          "name": "stdout",
          "text": [
            "@@@@ @@@@ @   @ @  @ @@@@ @@    @\n",
            "@  @ @  @  @ @  @  @ @  @ @ @   @\n",
            "@@@@ @@@@   @   @@@@ @@@@ @  @  @\n",
            "@ @  @  @   @   @  @ @  @ @   @ @\n",
            "@  @ @  @   @   @  @ @  @ @    @@\n",
            "Masukan nama File: contoh.txt\n",
            "\n",
            "        [MENU]\n",
            "        1. Baca Data\n",
            "        4. Simpan Perubahan\n",
            "        5. Exit\n",
            "        \n"
          ]
        }
      ],
      "source": [
        "print('@@@@ @@@@ @   @ @  @ @@@@ @@    @')\n",
        "print('@  @ @  @  @ @  @  @ @  @ @ @   @')\n",
        "print('@@@@ @@@@   @   @@@@ @@@@ @  @  @')\n",
        "print('@ @  @  @   @   @  @ @  @ @   @ @')\n",
        "print('@  @ @  @   @   @  @ @  @ @    @@')\n",
        "import sys\n",
        "def awal():\n",
        "    awal=input('Masukan nama File: ')\n",
        "    if awal == 'contoh.txt':\n",
        "        main()\n",
        "    else:\n",
        "        print(\"file tidak ditemukan\")\n",
        "def simpan():\n",
        "    text_file = open(\"contoh.txt\", \"r\")\n",
        "    text_file.close()\n",
        "    main()\n",
        "def main():\n",
        "        print('''\n",
        "        [MENU]\n",
        "        1. Baca Data\n",
        "        4. Simpan Perubahan\n",
        "        5. Exit\n",
        "        ''')\n",
        "        choose_menu=int(input('Silahkan Pilih: '))\n",
        "        if choose_menu == 1:\n",
        "            with open('contoh.txt', 'r') as f:\n",
        "                print(f.read())\n",
        "                main()\n",
        "        elif choose_menu == 4:\n",
        "            simpan()\n",
        "            main()\n",
        "        elif choose_menu == 5:\n",
        "            sys.exit(0)\n",
        "if __name__ == '__main__':\n",
        "    awal()\n",
        "    main()"
      ]
    }
  ]
}