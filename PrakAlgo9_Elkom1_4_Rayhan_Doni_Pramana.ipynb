{
  "nbformat": 4,
  "nbformat_minor": 0,
  "metadata": {
    "colab": {
      "provenance": [],
      "authorship_tag": "ABX9TyNUa+0x4/lnGRJrkVN1pJRh",
      "include_colab_link": true
    },
    "kernelspec": {
      "name": "python3",
      "display_name": "Python 3"
    },
    "language_info": {
      "name": "python"
    }
  },
  "cells": [
    {
      "cell_type": "markdown",
      "metadata": {
        "id": "view-in-github",
        "colab_type": "text"
      },
      "source": [
        "<a href=\"https://colab.research.google.com/github/rayhandonipramana/PraktikumAlgoritma_Rayhan-Doni-Pramana/blob/main/PrakAlgo9_Elkom1_4_Rayhan_Doni_Pramana.ipynb\" target=\"_parent\"><img src=\"https://colab.research.google.com/assets/colab-badge.svg\" alt=\"Open In Colab\"/></a>"
      ]
    },
    {
      "cell_type": "code",
      "execution_count": 2,
      "metadata": {
        "colab": {
          "base_uri": "https://localhost:8080/"
        },
        "id": "tu5YHoF9BDqJ",
        "outputId": "3c429f39-7d4f-4426-9907-1703f6c3541c"
      },
      "outputs": [
        {
          "output_type": "stream",
          "name": "stdout",
          "text": [
            "@@@@ @@@@ @   @ @  @ @@@@ @@    @\n",
            "@  @ @  @  @ @  @  @ @  @ @ @   @\n",
            "@@@@ @@@@   @   @@@@ @@@@ @  @  @\n",
            "@ @  @  @   @   @  @ @  @ @   @ @\n",
            "@  @ @  @   @   @  @ @  @ @    @@\n",
            "=============ELKOM 1=============\n",
            "[1, 3, 5, 7, 9, 11]\n",
            "Hasil reverse ke tuple\n",
            "(1, 3, 5, 7, 9, 11)\n"
          ]
        }
      ],
      "source": [
        "print('@@@@ @@@@ @   @ @  @ @@@@ @@    @')\n",
        "print('@  @ @  @  @ @  @  @ @  @ @ @   @')\n",
        "print('@@@@ @@@@   @   @@@@ @@@@ @  @  @')\n",
        "print('@ @  @  @   @   @  @ @  @ @   @ @')\n",
        "print('@  @ @  @   @   @  @ @  @ @    @@')\n",
        "print(\"=============ELKOM 1=============\")\n",
        "# List yang akan dikonversi menjadi tuple\n",
        "list_angka = [1, 3, 5, 7, 9, 11]\n",
        "\n",
        "# Mengkonversi list menjadi tuple\n",
        "tuple_hasil = tuple(list_angka)\n",
        "\n",
        "# Output hasil konversi\n",
        "print(list_angka)\n",
        "print(\"Hasil reverse ke tuple\")\n",
        "print(tuple_hasil)\n"
      ]
    },
    {
      "cell_type": "code",
      "source": [
        "print('@@@@ @@@@ @   @ @  @ @@@@ @@    @')\n",
        "print('@  @ @  @  @ @  @  @ @  @ @ @   @')\n",
        "print('@@@@ @@@@   @   @@@@ @@@@ @  @  @')\n",
        "print('@ @  @  @   @   @  @ @  @ @   @ @')\n",
        "print('@  @ @  @   @   @  @ @  @ @    @@')\n",
        "print(\"=============ELKOM 2=============\")\n",
        "# Tuple yang berisi beberapa tuple dengan nilai numerik\n",
        "tuple_utama = ('1030, 1031, 1032', '1034, 1035, 1036', '1038, 1039, 1040')\n",
        "\n",
        "# Fungsi untuk menghitung rata-rata dari sebuah tuple yang berisi beberapa tuple numerik\n",
        "def hitung_rata_rata_tuple(tuple_utama):\n",
        "    list_angka = [list(map(int, item.split(', '))) for item in tuple_utama]\n",
        "\n",
        "    # Menghitung rata-rata untuk setiap kolom\n",
        "    rata_rata_kolom = [sum(item) / 9 for item in zip(*list_angka)]\n",
        "\n",
        "    return rata_rata_kolom\n",
        "\n",
        "# Memanggil fungsi hitung_rata_rata_tuple dan menampilkan hasilnya\n",
        "rata_rata = hitung_rata_rata_tuple(tuple_utama)\n",
        "print(tuple_utama)\n",
        "print(\"Rata-rata dari tuple adalah:\")\n",
        "print(rata_rata)\n"
      ],
      "metadata": {
        "colab": {
          "base_uri": "https://localhost:8080/"
        },
        "id": "r1buS3n5E7Y3",
        "outputId": "87cd29bc-85c5-4646-c687-fd46fdd062c7"
      },
      "execution_count": 1,
      "outputs": [
        {
          "output_type": "stream",
          "name": "stdout",
          "text": [
            "@@@@ @@@@ @   @ @  @ @@@@ @@    @\n",
            "@  @ @  @  @ @  @  @ @  @ @ @   @\n",
            "@@@@ @@@@   @   @@@@ @@@@ @  @  @\n",
            "@ @  @  @   @   @  @ @  @ @   @ @\n",
            "@  @ @  @   @   @  @ @  @ @    @@\n",
            "=============ELKOM 2=============\n",
            "('1030, 1031, 1032', '1034, 1035, 1036', '1038, 1039, 1040')\n",
            "Rata-rata dari tuple adalah:\n",
            "[344.6666666666667, 345.0, 345.3333333333333]\n"
          ]
        }
      ]
    },
    {
      "cell_type": "code",
      "source": [
        "print('@@@@ @@@@ @   @ @  @ @@@@ @@    @')\n",
        "print('@  @ @  @  @ @  @  @ @  @ @ @   @')\n",
        "print('@@@@ @@@@   @   @@@@ @@@@ @  @  @')\n",
        "print('@ @  @  @   @   @  @ @  @ @   @ @')\n",
        "print('@  @ @  @   @   @  @ @  @ @    @@')\n",
        "print(\"=============ELKOM 3=============\")\n",
        "# List dengan nilai 1, 2, 3, 4, 5\n",
        "list_nilai = [1, 2, 3, 4, 5]\n",
        "\n",
        "# Fungsi untuk menghitung hasil kali dari semua nilai dalam list\n",
        "def hitung_hasil_kali(list_nilai):\n",
        "    hasil_kali = 1\n",
        "\n",
        "    # Iterasi melalui setiap nilai dalam list dan mengalikan dengan hasil_kali\n",
        "    for nilai in list_nilai:\n",
        "        hasil_kali *= nilai\n",
        "\n",
        "    return hasil_kali\n",
        "\n",
        "# Memanggil fungsi hitung_hasil_kali untuk list [1, 2, 3, 4, 5] dan menampilkan hasilnya\n",
        "hasil_kali = hitung_hasil_kali(list_nilai)\n",
        "print(list_nilai)\n",
        "print(hasil_kali)\n"
      ],
      "metadata": {
        "colab": {
          "base_uri": "https://localhost:8080/"
        },
        "id": "uvUE97FxJAeA",
        "outputId": "b4851c28-74fd-4e8b-ef70-301d8e337b96"
      },
      "execution_count": 33,
      "outputs": [
        {
          "output_type": "stream",
          "name": "stdout",
          "text": [
            "@@@@ @@@@ @   @ @  @ @@@@ @@    @\n",
            "@  @ @  @  @ @  @  @ @  @ @ @   @\n",
            "@@@@ @@@@   @   @@@@ @@@@ @  @  @\n",
            "@ @  @  @   @   @  @ @  @ @   @ @\n",
            "@  @ @  @   @   @  @ @  @ @    @@\n",
            "===============ELKOM 3===============\n",
            "[1, 2, 3, 4, 5]\n",
            "120\n"
          ]
        }
      ]
    },
    {
      "cell_type": "code",
      "source": [
        "print('@@@@ @@@@ @   @ @  @ @@@@ @@    @')\n",
        "print('@  @ @  @  @ @  @  @ @  @ @ @   @')\n",
        "print('@@@@ @@@@   @   @@@@ @@@@ @  @  @')\n",
        "print('@ @  @  @   @   @  @ @  @ @   @ @')\n",
        "print('@  @ @  @   @   @  @ @  @ @    @@')\n",
        "print(\"=============ELKOM 4=============\")\n",
        "# Fungsi untuk menghitung jumlah string dalam list dengan karakter pertama dan terakhir yang sama\n",
        "def hitung_string_sama(list_strings):\n",
        "    jumlah_string = 0\n",
        "\n",
        "    # Iterasi melalui setiap string dalam list\n",
        "    for string in list_strings:\n",
        "        # Mengecek jika itu string, panjang minimal 2, dan karakter pertama sama dengan karakter terakhir\n",
        "        if isinstance(string, str) and len(string) >= 2 and string[0] == string[-1]:\n",
        "            jumlah_string += 1\n",
        "\n",
        "    return jumlah_string\n",
        "\n",
        "# List yang akan diperiksa\n",
        "list_strings = ['d', 'aba', 'aca', 300]\n",
        "\n",
        "# Memanggil fungsi hitung_string_sama dan menampilkan hasilnya\n",
        "jumlah = hitung_string_sama(list_strings)\n",
        "print(list_strings)\n",
        "print(\"Terdapat string yang memenuhi syarat sebanyak\", jumlah)\n"
      ],
      "metadata": {
        "colab": {
          "base_uri": "https://localhost:8080/"
        },
        "id": "zSUmlqm-NhbN",
        "outputId": "62e1de1e-4fd9-4e37-b661-a3389260a84d"
      },
      "execution_count": 2,
      "outputs": [
        {
          "output_type": "stream",
          "name": "stdout",
          "text": [
            "@@@@ @@@@ @   @ @  @ @@@@ @@    @\n",
            "@  @ @  @  @ @  @  @ @  @ @ @   @\n",
            "@@@@ @@@@   @   @@@@ @@@@ @  @  @\n",
            "@ @  @  @   @   @  @ @  @ @   @ @\n",
            "@  @ @  @   @   @  @ @  @ @    @@\n",
            "=============ELKOM 4=============\n",
            "['d', 'aba', 'aca', 300]\n",
            "Terdapat string yang memenuhi syarat sebanyak 2\n"
          ]
        }
      ]
    }
  ]
}