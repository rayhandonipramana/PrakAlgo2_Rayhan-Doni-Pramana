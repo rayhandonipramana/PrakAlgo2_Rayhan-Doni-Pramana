{
  "nbformat": 4,
  "nbformat_minor": 0,
  "metadata": {
    "colab": {
      "provenance": [],
      "authorship_tag": "ABX9TyOXBgCySd1EyJ8OKZ8Ew+c3",
      "include_colab_link": true
    },
    "kernelspec": {
      "name": "python3",
      "display_name": "Python 3"
    },
    "language_info": {
      "name": "python"
    }
  },
  "cells": [
    {
      "cell_type": "markdown",
      "metadata": {
        "id": "view-in-github",
        "colab_type": "text"
      },
      "source": [
        "<a href=\"https://colab.research.google.com/github/rayhandonipramana/PraktikumAlgoritma_Rayhan-Doni-Pramana/blob/main/PrakAlgo12_Elkom3_Rayhan_Doni_Pramana.ipynb\" target=\"_parent\"><img src=\"https://colab.research.google.com/assets/colab-badge.svg\" alt=\"Open In Colab\"/></a>"
      ]
    },
    {
      "cell_type": "code",
      "execution_count": 1,
      "metadata": {
        "colab": {
          "base_uri": "https://localhost:8080/"
        },
        "id": "G67Vgi5WZM2G",
        "outputId": "a35a5f99-43a7-4293-dc44-dfec2dfe417b"
      },
      "outputs": [
        {
          "output_type": "stream",
          "name": "stdout",
          "text": [
            "@@@@ @@@@ @   @ @  @ @@@@ @@    @\n",
            "@  @ @  @  @ @  @  @ @  @ @ @   @\n",
            "@@@@ @@@@   @   @@@@ @@@@ @  @  @\n",
            "@ @  @  @   @   @  @ @  @ @   @ @\n",
            "@  @ @  @   @   @  @ @  @ @    @@\n",
            "berapa rangenya? 4\n",
            "masukan angka ke 1:45\n",
            "masukan angka ke 2:89\n",
            "masukan angka ke 3:56\n",
            "masukan angka ke 4:23\n",
            "list normalnya: [45, 89, 56, 23]\n",
            "Hasil Bubble Sort = [23, 45, 56, 89]\n"
          ]
        }
      ],
      "source": [
        "print('@@@@ @@@@ @   @ @  @ @@@@ @@    @')\n",
        "print('@  @ @  @  @ @  @  @ @  @ @ @   @')\n",
        "print('@@@@ @@@@   @   @@@@ @@@@ @  @  @')\n",
        "print('@ @  @  @   @   @  @ @  @ @   @ @')\n",
        "print('@  @ @  @   @   @  @ @  @ @    @@')\n",
        "def bubble_sorted():\n",
        "    list=[]\n",
        "    minta=int(input('berapa rangenya? '))\n",
        "    for i in range(minta):\n",
        "        i+=1\n",
        "        list.append(int(input(f'masukan angka ke {i}:')))\n",
        "    print('list normalnya:',list)\n",
        "    for i in range(len(list)-1):\n",
        "        for j in range(len(list)-1-i):\n",
        "            if list[j]>list[j+1]:\n",
        "                list[j],list[j+1] = list[j+1],list[j]\n",
        "    print(f'Hasil Bubble Sort = {list}')\n",
        "bubble_sorted()"
      ]
    }
  ]
}