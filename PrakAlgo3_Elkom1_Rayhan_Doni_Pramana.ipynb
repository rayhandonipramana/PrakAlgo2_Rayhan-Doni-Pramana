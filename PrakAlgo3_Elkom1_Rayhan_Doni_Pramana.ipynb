{
  "nbformat": 4,
  "nbformat_minor": 0,
  "metadata": {
    "colab": {
      "provenance": [],
      "authorship_tag": "ABX9TyN96MMonxoAyPoMvOyAoK43",
      "include_colab_link": true
    },
    "kernelspec": {
      "name": "python3",
      "display_name": "Python 3"
    },
    "language_info": {
      "name": "python"
    }
  },
  "cells": [
    {
      "cell_type": "markdown",
      "metadata": {
        "id": "view-in-github",
        "colab_type": "text"
      },
      "source": [
        "<a href=\"https://colab.research.google.com/github/rayhandonipramana/PraktikumAlgoritma_Rayhan-Doni-Pramana/blob/main/PrakAlgo3_Elkom1_Rayhan_Doni_Pramana.ipynb\" target=\"_parent\"><img src=\"https://colab.research.google.com/assets/colab-badge.svg\" alt=\"Open In Colab\"/></a>"
      ]
    },
    {
      "cell_type": "code",
      "execution_count": 1,
      "metadata": {
        "colab": {
          "base_uri": "https://localhost:8080/"
        },
        "id": "mU0ULIQpWMN8",
        "outputId": "725f788b-44c0-4193-fa4e-9b815ecbefea"
      },
      "outputs": [
        {
          "output_type": "stream",
          "name": "stdout",
          "text": [
            "@@@@ @@@@ @   @ @  @ @@@@ @@    @\n",
            "@  @ @  @  @ @  @  @ @  @ @ @   @\n",
            "@@@@ @@@@   @   @@@@ @@@@ @  @  @\n",
            "@ @  @  @   @   @  @ @  @ @   @ @\n",
            "@  @ @  @   @   @  @ @  @ @    @@\n",
            "Masukkan total belanjaan = 64000\n",
            "Masukkan jumlah uang mu = 100000\n",
            "uang Kembalian = 36000.0\n",
            "uang Rp20000 sebanyak : 1 lembar\n",
            "uang Rp10000 sebanyak : 1 lembar\n",
            "uang Rp5000 sebanyak : 1 lembar\n",
            "uang Rp1000 sebanyak : 1 lembar\n"
          ]
        }
      ],
      "source": [
        "print('@@@@ @@@@ @   @ @  @ @@@@ @@    @')\n",
        "print('@  @ @  @  @ @  @  @ @  @ @ @   @')\n",
        "print('@@@@ @@@@   @   @@@@ @@@@ @  @  @')\n",
        "print('@ @  @  @   @   @  @ @  @ @   @ @')\n",
        "print('@  @ @  @   @   @  @ @  @ @    @@')\n",
        "# Menerima input dari pengguna untuk total harga belanjaan\n",
        "total_harga = float(input(\"Masukkan total belanjaan = \"))\n",
        "\n",
        "# Menerima input dari pengguna untuk jumlah uang yang diberikan\n",
        "jumlah_uang = float(input(\"Masukkan jumlah uang mu = \"))\n",
        "\n",
        "# Menghitung kembalian\n",
        "uang_kembalian = jumlah_uang - total_harga\n",
        "\n",
        "# Daftar lembar uang dan nilai nominalnya\n",
        "lembar_uang = [\n",
        "    (100000, \"uang Rp100000\"),\n",
        "    (50000, \"uang Rp50000\"),\n",
        "    (20000, \"uang Rp20000\"),\n",
        "    (10000, \"uang Rp10000\"),\n",
        "    (5000, \"uang Rp5000\"),\n",
        "    (2000, \"uang Rp2000\"),\n",
        "    (1000, \"uang Rp1000\"),\n",
        "]\n",
        "nominal = [\n",
        "    (100000),\n",
        "    (50000),\n",
        "    (20000),\n",
        "    (10000),\n",
        "    (5000),\n",
        "    (2000),\n",
        "    (1000),\n",
        "]\n",
        "jumlah_kembalian =jumlah_uang - total_harga\n",
        "\n",
        "# Menghitung jumlah lembar uang yang harus dikembalikan\n",
        "jumlah_lembar_uang = {}\n",
        "for nominal, nama in lembar_uang:\n",
        "    jumlah = int(uang_kembalian / nominal)\n",
        "    if jumlah > 0:\n",
        "        jumlah_lembar_uang[nama] = jumlah\n",
        "        uang_kembalian -= jumlah * nominal\n",
        "\n",
        "# Menampilkan kembalian\n",
        "print(f\"uang Kembalian = {jumlah_kembalian}\")\n",
        "for nama, jumlah in jumlah_lembar_uang.items():\n",
        "    print(f\"{nama} sebanyak : {jumlah} lembar\")\n"
      ]
    }
  ]
}