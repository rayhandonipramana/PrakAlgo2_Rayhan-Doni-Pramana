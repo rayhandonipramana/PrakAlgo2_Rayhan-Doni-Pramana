{
  "nbformat": 4,
  "nbformat_minor": 0,
  "metadata": {
    "colab": {
      "provenance": []
    },
    "kernelspec": {
      "name": "python3",
      "display_name": "Python 3"
    },
    "language_info": {
      "name": "python"
    }
  },
  "cells": [
    {
      "cell_type": "code",
      "execution_count": 8,
      "metadata": {
        "colab": {
          "base_uri": "https://localhost:8080/"
        },
        "id": "rpknzMDmqP0G",
        "outputId": "fd939795-740b-4fce-a41c-5ba9a7bee8c7"
      },
      "outputs": [
        {
          "output_type": "stream",
          "name": "stdout",
          "text": [
            "@@@@ @@@@ @   @ @  @ @@@@ @@    @\n",
            "@  @ @  @  @ @  @  @ @  @ @ @   @\n",
            "@@@@ @@@@   @   @@@@ @@@@ @  @  @\n",
            "@ @  @  @   @   @  @ @  @ @   @ @\n",
            "@  @ @  @   @   @  @ @  @ @    @@\n",
            "Masukkan angka awal = 1\n",
            "Masukkan angka akhir = 50\n",
            "1|50\n",
            "2|49\n",
            "3|48\n",
            "4|47\n",
            "5|46\n",
            "6|45\n",
            "7|44\n",
            "8|43\n",
            "9|42\n",
            "10|41\n",
            "11|40\n",
            "12|39\n",
            "13|38\n",
            "14|37\n",
            "15|36\n",
            "16|35\n",
            "17|34\n",
            "18|33\n",
            "19|32\n",
            "20|31\n",
            "21|30\n",
            "22|29\n",
            "23|28\n",
            "24|27\n",
            "25|26\n"
          ]
        }
      ],
      "source": [
        "print('@@@@ @@@@ @   @ @  @ @@@@ @@    @')\n",
        "print('@  @ @  @  @ @  @  @ @  @ @ @   @')\n",
        "print('@@@@ @@@@   @   @@@@ @@@@ @  @  @')\n",
        "print('@ @  @  @   @   @  @ @  @ @   @ @')\n",
        "print('@  @ @  @   @   @  @ @  @ @    @@')\n",
        "# Angka awal dan angka akhir\n",
        "angka_awal = int(input(\"Masukkan angka awal = \"))\n",
        "angka_akhir = int(input(\"Masukkan angka akhir = \"))\n",
        "# Loop untuk menampilkan rentang angka yang berbeda\n",
        "while angka_awal < angka_akhir:\n",
        "    print(f\"{angka_awal}|{angka_akhir}\")\n",
        "    angka_awal += 1\n",
        "    angka_akhir -= 1\n"
      ]
    }
  ]
}