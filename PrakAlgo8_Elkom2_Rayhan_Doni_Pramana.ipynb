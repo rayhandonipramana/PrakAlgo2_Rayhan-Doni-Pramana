{
  "nbformat": 4,
  "nbformat_minor": 0,
  "metadata": {
    "colab": {
      "provenance": [],
      "authorship_tag": "ABX9TyO2W0hj2vmbVZe8b+uywEn+",
      "include_colab_link": true
    },
    "kernelspec": {
      "name": "python3",
      "display_name": "Python 3"
    },
    "language_info": {
      "name": "python"
    }
  },
  "cells": [
    {
      "cell_type": "markdown",
      "metadata": {
        "id": "view-in-github",
        "colab_type": "text"
      },
      "source": [
        "<a href=\"https://colab.research.google.com/github/rayhandonipramana/PraktikumAlgoritma_Rayhan-Doni-Pramana/blob/main/PrakAlgo8_Elkom2_Rayhan_Doni_Pramana.ipynb\" target=\"_parent\"><img src=\"https://colab.research.google.com/assets/colab-badge.svg\" alt=\"Open In Colab\"/></a>"
      ]
    },
    {
      "cell_type": "code",
      "execution_count": 1,
      "metadata": {
        "colab": {
          "base_uri": "https://localhost:8080/"
        },
        "id": "BHH4BSzq7ErP",
        "outputId": "efa89e09-bc7a-472a-a437-9d762969fb06"
      },
      "outputs": [
        {
          "output_type": "stream",
          "name": "stdout",
          "text": [
            "@@@@ @@@@ @   @ @  @ @@@@ @@    @\n",
            "@  @ @  @  @ @  @  @ @  @ @ @   @\n",
            "@@@@ @@@@   @   @@@@ @@@@ @  @  @\n",
            "@ @  @  @   @   @  @ @  @ @   @ @\n",
            "@  @ @  @   @   @  @ @  @ @    @@\n",
            "Masukkan angka pertama : 1\n",
            "Masukkan angka kedua : 9\n",
            "Jumlah range adalah : 45\n"
          ]
        }
      ],
      "source": [
        "print('@@@@ @@@@ @   @ @  @ @@@@ @@    @')\n",
        "print('@  @ @  @  @ @  @  @ @  @ @ @   @')\n",
        "print('@@@@ @@@@   @   @@@@ @@@@ @  @  @')\n",
        "print('@ @  @  @   @   @  @ @  @ @   @ @')\n",
        "print('@  @ @  @   @   @  @ @  @ @    @@')\n",
        "def hitung_jumlah_range(angka_pertama, angka_kedua):\n",
        "    # Menghitung jumlah dari rentang antara dua angka\n",
        "    jumlah_range = sum(range(angka_pertama, angka_kedua + 1))\n",
        "    return jumlah_range\n",
        "\n",
        "# Meminta pengguna untuk memasukkan dua angka\n",
        "angka_pertama = int(input(\"Masukkan angka pertama : \"))\n",
        "angka_kedua = int(input(\"Masukkan angka kedua : \"))\n",
        "\n",
        "# Memanggil fungsi untuk menghitung jumlah range\n",
        "hasil = hitung_jumlah_range(angka_pertama, angka_kedua)\n",
        "print(\"Jumlah range adalah :\", hasil)\n"
      ]
    }
  ]
}