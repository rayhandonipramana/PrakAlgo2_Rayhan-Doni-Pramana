{
  "nbformat": 4,
  "nbformat_minor": 0,
  "metadata": {
    "colab": {
      "provenance": [],
      "authorship_tag": "ABX9TyMZn9XxF3LabFOt+itH/cVK",
      "include_colab_link": true
    },
    "kernelspec": {
      "name": "python3",
      "display_name": "Python 3"
    },
    "language_info": {
      "name": "python"
    }
  },
  "cells": [
    {
      "cell_type": "markdown",
      "metadata": {
        "id": "view-in-github",
        "colab_type": "text"
      },
      "source": [
        "<a href=\"https://colab.research.google.com/github/rayhandonipramana/PraktikumAlgoritma_Rayhan-Doni-Pramana/blob/main/PrakAlgo12_Elkom4_Rayhan_Doni_Pramana.ipynb\" target=\"_parent\"><img src=\"https://colab.research.google.com/assets/colab-badge.svg\" alt=\"Open In Colab\"/></a>"
      ]
    },
    {
      "cell_type": "code",
      "execution_count": 2,
      "metadata": {
        "colab": {
          "base_uri": "https://localhost:8080/"
        },
        "id": "e7UqfMOuYUdh",
        "outputId": "182f9441-208f-4c05-aa57-861f6bc2421f"
      },
      "outputs": [
        {
          "output_type": "stream",
          "name": "stdout",
          "text": [
            "@@@@ @@@@ @   @ @  @ @@@@ @@    @\n",
            "@  @ @  @  @ @  @  @ @  @ @ @   @\n",
            "@@@@ @@@@   @   @@@@ @@@@ @  @  @\n",
            "@ @  @  @   @   @  @ @  @ @   @ @\n",
            "@  @ @  @   @   @  @ @  @ @    @@\n",
            "Berapa kali maunya? 4\n",
            "Masukan angka ke 1: 78\n",
            "Masukan angka ke 2: 56\n",
            "Masukan angka ke 3: 90\n",
            "Masukan angka ke 4: 34\n",
            "list: [78, 56, 90, 34]\n",
            "list dengan selection: [34, 56, 78, 90]\n"
          ]
        }
      ],
      "source": [
        "print('@@@@ @@@@ @   @ @  @ @@@@ @@    @')\n",
        "print('@  @ @  @  @ @  @  @ @  @ @ @   @')\n",
        "print('@@@@ @@@@   @   @@@@ @@@@ @  @  @')\n",
        "print('@ @  @  @   @   @  @ @  @ @   @ @')\n",
        "print('@  @ @  @   @   @  @ @  @ @    @@')\n",
        "def selection():\n",
        "    list=[]\n",
        "    minta=int(input('Berapa kali maunya? '))\n",
        "    for i in range(minta):\n",
        "        i+=1\n",
        "        list.append(int(input(f'Masukan angka ke {i}: ')))\n",
        "    print (f'list: {list}')\n",
        "    for i in range(0,len(list)-1):\n",
        "        p=0\n",
        "        mini=list[-1]\n",
        "        for j in range(i,len(list)):\n",
        "            if list[j]<=mini:\n",
        "                mini=list[j]\n",
        "                p=j\n",
        "        list[i],list[p]=list[p],list[i]\n",
        "    print(f'list dengan selection: {list}')\n",
        "selection()"
      ]
    }
  ]
}