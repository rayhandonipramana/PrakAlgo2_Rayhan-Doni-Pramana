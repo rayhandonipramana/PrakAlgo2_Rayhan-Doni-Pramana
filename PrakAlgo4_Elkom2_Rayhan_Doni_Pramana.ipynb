{
  "nbformat": 4,
  "nbformat_minor": 0,
  "metadata": {
    "colab": {
      "provenance": [],
      "authorship_tag": "ABX9TyMD5zXqAlbrggruzyPEf//p",
      "include_colab_link": true
    },
    "kernelspec": {
      "name": "python3",
      "display_name": "Python 3"
    },
    "language_info": {
      "name": "python"
    }
  },
  "cells": [
    {
      "cell_type": "markdown",
      "metadata": {
        "id": "view-in-github",
        "colab_type": "text"
      },
      "source": [
        "<a href=\"https://colab.research.google.com/github/rayhandonipramana/PraktikumAlgoritma_Rayhan-Doni-Pramana/blob/main/PrakAlgo4_Elkom2_Rayhan_Doni_Pramana.ipynb\" target=\"_parent\"><img src=\"https://colab.research.google.com/assets/colab-badge.svg\" alt=\"Open In Colab\"/></a>"
      ]
    },
    {
      "cell_type": "code",
      "execution_count": 1,
      "metadata": {
        "colab": {
          "base_uri": "https://localhost:8080/"
        },
        "id": "bwokdNSD9VOR",
        "outputId": "f7cfada2-9662-411a-8bfb-b91ea99f1bb1"
      },
      "outputs": [
        {
          "output_type": "stream",
          "name": "stdout",
          "text": [
            "@@@@ @@@@ @   @ @  @ @@@@ @@    @\n",
            "@  @ @  @  @ @  @  @ @  @ @ @   @\n",
            "@@@@ @@@@   @   @@@@ @@@@ @  @  @\n",
            "@ @  @  @   @   @  @ @  @ @   @ @\n",
            "@  @ @  @   @   @  @ @  @ @    @@\n",
            "Masukkan list angka (integer) -> 1 2 3 4 5 6 7 8 \n",
            "List memiliki angka genap\n"
          ]
        }
      ],
      "source": [
        "print('@@@@ @@@@ @   @ @  @ @@@@ @@    @')\n",
        "print('@  @ @  @  @ @  @  @ @  @ @ @   @')\n",
        "print('@@@@ @@@@   @   @@@@ @@@@ @  @  @')\n",
        "print('@ @  @  @   @   @  @ @  @ @   @ @')\n",
        "print('@  @ @  @   @   @  @ @  @ @    @@')\n",
        "def cek_angka_genap(list_angka):\n",
        "    for angka in list_angka:\n",
        "        if angka % 2 == 0:\n",
        "            return True  # Mengembalikan True jika ada angka genap\n",
        "    return False  # Mengembalikan False jika tidak ada angka genap\n",
        "\n",
        "# Meminta input dari pengguna dan membangun list\n",
        "input_angka = input(\"Masukkan list angka (integer) -> \")\n",
        "list_angka = [int(x) for x in input_angka.split()]\n",
        "\n",
        "if cek_angka_genap(list_angka):\n",
        "    print(\"List memiliki angka genap\")\n",
        "else:\n",
        "    print(\"List tidak memiliki angka genap\")\n"
      ]
    }
  ]
}