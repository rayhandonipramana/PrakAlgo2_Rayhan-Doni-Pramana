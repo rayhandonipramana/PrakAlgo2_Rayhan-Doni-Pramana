{
  "nbformat": 4,
  "nbformat_minor": 0,
  "metadata": {
    "colab": {
      "provenance": [],
      "authorship_tag": "ABX9TyNn7QUaePbUsO/TAknTEfqs",
      "include_colab_link": true
    },
    "kernelspec": {
      "name": "python3",
      "display_name": "Python 3"
    },
    "language_info": {
      "name": "python"
    }
  },
  "cells": [
    {
      "cell_type": "markdown",
      "metadata": {
        "id": "view-in-github",
        "colab_type": "text"
      },
      "source": [
        "<a href=\"https://colab.research.google.com/github/rayhandonipramana/PraktikumAlgoritma_Rayhan-Doni-Pramana/blob/main/PrakAlgo5_Elkom2_Rayhan_Doni_Pramana.ipynb\" target=\"_parent\"><img src=\"https://colab.research.google.com/assets/colab-badge.svg\" alt=\"Open In Colab\"/></a>"
      ]
    },
    {
      "cell_type": "code",
      "execution_count": 1,
      "metadata": {
        "colab": {
          "base_uri": "https://localhost:8080/"
        },
        "id": "L9_RPAmC2B98",
        "outputId": "a432ed33-c67a-471d-91f4-f8cafe527090"
      },
      "outputs": [
        {
          "output_type": "stream",
          "name": "stdout",
          "text": [
            "@@@@ @@@@ @   @ @  @ @@@@ @@    @\n",
            "@  @ @  @  @ @  @  @ @  @ @ @   @\n",
            "@@@@ @@@@   @   @@@@ @@@@ @  @  @\n",
            "@ @  @  @   @   @  @ @  @ @   @ @\n",
            "@  @ @  @   @   @  @ @  @ @    @@\n",
            "Nama : Rayhan\n",
            "Jam masuk kerja: 7.15\n",
            "\n",
            "Selamat pagi Rayhan\n",
            "\n",
            "Jam keluar kerja: 18.22\n",
            "\n",
            "Selamat malam Rayhan\n",
            "\n",
            "===== RINCIAN GAJI =====\n",
            "Nama         : Rayhan\n",
            "Waktu Kerja  : 11 jam (7.15 s.d 18.22)\n",
            "Gaji perhari : 175000\n",
            "Lembur       : 45000.00 (3 jam * Rp.15,000)\n",
            "Total gaji   : 220000.00\n",
            "========TERIMA KASIH========\n"
          ]
        }
      ],
      "source": [
        "print('@@@@ @@@@ @   @ @  @ @@@@ @@    @')\n",
        "print('@  @ @  @  @ @  @  @ @  @ @ @   @')\n",
        "print('@@@@ @@@@   @   @@@@ @@@@ @  @  @')\n",
        "print('@ @  @  @   @   @  @ @  @ @   @ @')\n",
        "print('@  @ @  @   @   @  @ @  @ @    @@')\n",
        "# Input nama\n",
        "while True:\n",
        "    nama = input(\"Nama : \")\n",
        "\n",
        "    if nama.isdigit():\n",
        "        print(\"Masukkan nama yang valid!\")\n",
        "        continue\n",
        "\n",
        "\n",
        "        # Input jam kerja\n",
        "    jamKerja = float(input(\"Jam masuk kerja: \"))\n",
        "\n",
        "        # Gaji perhari\n",
        "    gajiPerhari = 175000\n",
        "\n",
        "        # Mengecek apakah jam kerja valid (antara 0 hingga 24)\n",
        "    if jamKerja < 0.00 or jamKerja > 24.00:\n",
        "            print(\"Jam masuk kerja tidak valid!\")\n",
        "    else:\n",
        "            # Ucapan selamat pagi, siang, sore, malam berdasarkan waktu\n",
        "            if jamKerja >= 6.00 and jamKerja <= 12.00:\n",
        "                print(f\"\\nSelamat pagi {nama}\\n\")\n",
        "            elif jamKerja >= 12.00 and jamKerja <= 15.00:\n",
        "                print(f\"\\nSelamat siang {nama}\\n\")\n",
        "            elif jamKerja >= 15.00 and jamKerja <= 18.00:\n",
        "                print(f\"\\nSelamat sore {nama}\\n\")\n",
        "            elif jamKerja >= 18.00 and jamKerja <= 24.00:\n",
        "                print(f\"\\nSelamat malam {nama}\\n\")\n",
        "            else:\n",
        "                print(\"Jam masuk kerja tidak valid!\")\n",
        "\n",
        "            # Input jam keluar kerja\n",
        "            jamKeluarKerja = float(input(\"Jam keluar kerja: \"))\n",
        "\n",
        "            # Mengecek apakah jam keluar kerja valid (antara 0 hingga 24)\n",
        "            if jamKeluarKerja < 0.00 or jamKeluarKerja > 24.00:\n",
        "                print(\"Jam keluar kerja tidak valid!\")\n",
        "            else:\n",
        "                # Ucapan selamat pagi, siang, sore, malam berdasarkan waktu\n",
        "                if jamKeluarKerja >= 6.00 and jamKeluarKerja <= 12.00:\n",
        "                    print(f\"\\nSelamat pagi {nama}\\n\")\n",
        "                elif jamKeluarKerja >= 12.00 and jamKeluarKerja <= 15.00:\n",
        "                    print(f\"\\nSelamat siang {nama}\\n\")\n",
        "                elif jamKeluarKerja >= 15.00 and jamKeluarKerja <= 18.00:\n",
        "                    print(f\"\\nSelamat sore {nama}\\n\")\n",
        "                elif jamKeluarKerja >= 18.00 and jamKeluarKerja <= 24.00:\n",
        "                    print(f\"\\nSelamat malam {nama}\\n\")\n",
        "                else:\n",
        "                    print(\"Jam keluar kerja tidak valid!\")\n",
        "\n",
        "                print(5 * \"=\", \"RINCIAN GAJI\", 5 * \"=\")\n",
        "\n",
        "                print(f\"Nama         : {nama}\")\n",
        "\n",
        "                waktuKerja = (jamKeluarKerja - jamKerja)\n",
        "\n",
        "                print(f\"Waktu Kerja  : {int(waktuKerja)} jam ({jamKerja:.2f} s.d {jamKeluarKerja:.2f})\")\n",
        "\n",
        "                if waktuKerja <= 8:\n",
        "                    gaji_total = gajiPerhari\n",
        "                else:\n",
        "                    gaji_tambahan = (int(waktuKerja) - 8) * 15000\n",
        "                    gaji_total = gajiPerhari + gaji_tambahan\n",
        "\n",
        "                print(f\"Gaji perhari : {gajiPerhari}\")\n",
        "                print(f\"Lembur       : {gaji_tambahan:.2f} ({int(waktuKerja - 8)} jam * Rp.15,000)\")\n",
        "                print(f\"Total gaji   : {gaji_total:.2f}\")\n",
        "                print(\"========TERIMA KASIH========\")\n",
        "    break"
      ]
    }
  ]
}