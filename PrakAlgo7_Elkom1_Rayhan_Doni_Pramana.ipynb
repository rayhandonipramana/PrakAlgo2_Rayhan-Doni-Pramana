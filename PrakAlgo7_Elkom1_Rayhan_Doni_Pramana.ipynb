{
  "nbformat": 4,
  "nbformat_minor": 0,
  "metadata": {
    "colab": {
      "provenance": [],
      "authorship_tag": "ABX9TyO63YEZjyumuVmCHXj7TdRy",
      "include_colab_link": true
    },
    "kernelspec": {
      "name": "python3",
      "display_name": "Python 3"
    },
    "language_info": {
      "name": "python"
    }
  },
  "cells": [
    {
      "cell_type": "markdown",
      "metadata": {
        "id": "view-in-github",
        "colab_type": "text"
      },
      "source": [
        "<a href=\"https://colab.research.google.com/github/rayhandonipramana/PraktikumAlgoritma_Rayhan-Doni-Pramana/blob/main/PrakAlgo7_Elkom1_Rayhan_Doni_Pramana.ipynb\" target=\"_parent\"><img src=\"https://colab.research.google.com/assets/colab-badge.svg\" alt=\"Open In Colab\"/></a>"
      ]
    },
    {
      "cell_type": "code",
      "execution_count": 1,
      "metadata": {
        "colab": {
          "base_uri": "https://localhost:8080/"
        },
        "id": "PtgBSNkg_O6n",
        "outputId": "a1d50c48-60e4-4221-b0a3-4eeffd8c2d81"
      },
      "outputs": [
        {
          "output_type": "stream",
          "name": "stdout",
          "text": [
            "@@@@ @@@@ @   @ @  @ @@@@ @@    @\n",
            "@  @ @  @  @ @  @  @ @  @ @ @   @\n",
            "@@@@ @@@@   @   @@@@ @@@@ @  @  @\n",
            "@ @  @  @   @   @  @ @  @ @   @ @\n",
            "@  @ @  @   @   @  @ @  @ @    @@\n",
            "                                 \n",
            "Nilai: 5\n",
            "Faktorial dari 5 adalah 120\n"
          ]
        }
      ],
      "source": [
        "print('@@@@ @@@@ @   @ @  @ @@@@ @@    @')\n",
        "print('@  @ @  @  @ @  @  @ @  @ @ @   @')\n",
        "print('@@@@ @@@@   @   @@@@ @@@@ @  @  @')\n",
        "print('@ @  @  @   @   @  @ @  @ @   @ @')\n",
        "print('@  @ @  @   @   @  @ @  @ @    @@')\n",
        "print(\"                                 \")\n",
        "def faktorial(n):\n",
        "    if n == 0 or n == 1:\n",
        "        return 1\n",
        "    else:\n",
        "        return n * faktorial(n - 1)\n",
        "\n",
        "# Masukkan bilangan untuk dihitung faktorialnya\n",
        "bilangan = int(input(\"Nilai: \"))\n",
        "\n",
        "# Memeriksa bilangan negatif\n",
        "if bilangan < 0:\n",
        "    print(\"Faktorial tidak dapat dihitung untuk bilangan negatif.\")\n",
        "else:\n",
        "    hasil_faktorial = faktorial(bilangan)\n",
        "    print(f\"Faktorial dari {bilangan} adalah {hasil_faktorial}\")\n"
      ]
    }
  ]
}