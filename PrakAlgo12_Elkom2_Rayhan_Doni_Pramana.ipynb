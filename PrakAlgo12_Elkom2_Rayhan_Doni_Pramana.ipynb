{
  "nbformat": 4,
  "nbformat_minor": 0,
  "metadata": {
    "colab": {
      "provenance": [],
      "authorship_tag": "ABX9TyMAn64g3JJZzC/fn5tlhBNv",
      "include_colab_link": true
    },
    "kernelspec": {
      "name": "python3",
      "display_name": "Python 3"
    },
    "language_info": {
      "name": "python"
    }
  },
  "cells": [
    {
      "cell_type": "markdown",
      "metadata": {
        "id": "view-in-github",
        "colab_type": "text"
      },
      "source": [
        "<a href=\"https://colab.research.google.com/github/rayhandonipramana/PraktikumAlgoritma_Rayhan-Doni-Pramana/blob/main/PrakAlgo12_Elkom2_Rayhan_Doni_Pramana.ipynb\" target=\"_parent\"><img src=\"https://colab.research.google.com/assets/colab-badge.svg\" alt=\"Open In Colab\"/></a>"
      ]
    },
    {
      "cell_type": "code",
      "execution_count": 41,
      "metadata": {
        "colab": {
          "base_uri": "https://localhost:8080/"
        },
        "id": "EIjtaI0INq_O",
        "outputId": "03129ed2-d69b-4ef1-a0cc-e1269238e870"
      },
      "outputs": [
        {
          "output_type": "stream",
          "name": "stdout",
          "text": [
            "@@@@ @@@@ @   @ @  @ @@@@ @@    @\n",
            "@  @ @  @  @ @  @  @ @  @ @ @   @\n",
            "@@@@ @@@@   @   @@@@ @@@@ @  @  @\n",
            "@ @  @  @   @   @  @ @  @ @   @ @\n",
            "@  @ @  @   @   @  @ @  @ @    @@\n",
            "berapa rangenya? 5\n",
            "masukan angka ke 1:3\n",
            "masukan angka ke 2:7\n",
            "masukan angka ke 3:9\n",
            "masukan angka ke 4:11\n",
            "masukan angka ke 5:13\n",
            "[3, 7, 9, 11, 13]\n",
            "angka berapa?8\n",
            "Angka tidak ditemukan\n"
          ]
        }
      ],
      "source": [
        "print('@@@@ @@@@ @   @ @  @ @@@@ @@    @')\n",
        "print('@  @ @  @  @ @  @  @ @  @ @ @   @')\n",
        "print('@@@@ @@@@   @   @@@@ @@@@ @  @  @')\n",
        "print('@ @  @  @   @   @  @ @  @ @   @ @')\n",
        "print('@  @ @  @   @   @  @ @  @ @    @@')\n",
        "\n",
        "def Binary_search(num,nilai_dicari,kiri,kanan):\n",
        "    while kiri <= kanan:\n",
        "        mid = (kiri + kanan)//2\n",
        "        if nilai_dicari == num[mid]:\n",
        "            return mid\n",
        "        elif nilai_dicari > num[mid]:\n",
        "            kiri = mid + 1\n",
        "        else:\n",
        "            kanan = mid - 1\n",
        "    return -1\n",
        "num =[]\n",
        "minta=int(input('berapa rangenya? '))\n",
        "for i in range(minta):\n",
        "    i+=1\n",
        "    num.append(int(input(f'masukan angka ke {i}:')))\n",
        "print(num)\n",
        "nilai_dicari = int(input('angka berapa?'))\n",
        "hasil = Binary_search(num,nilai_dicari,0,len(num)-1)\n",
        "if hasil != -1:\n",
        "    print(\"Angka ditemukan pada index ke \" + str(hasil))\n",
        "else:\n",
        "    print(\"Angka tidak ditemukan\")"
      ]
    }
  ]
}