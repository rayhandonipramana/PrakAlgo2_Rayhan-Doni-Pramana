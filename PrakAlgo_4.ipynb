{
  "nbformat": 4,
  "nbformat_minor": 0,
  "metadata": {
    "colab": {
      "provenance": [],
      "authorship_tag": "ABX9TyPk6P3Zswqjo7grg8DCHYar",
      "include_colab_link": true
    },
    "kernelspec": {
      "name": "python3",
      "display_name": "Python 3"
    },
    "language_info": {
      "name": "python"
    }
  },
  "cells": [
    {
      "cell_type": "markdown",
      "metadata": {
        "id": "view-in-github",
        "colab_type": "text"
      },
      "source": [
        "<a href=\"https://colab.research.google.com/github/rayhandonipramana/PrakAlgo2_Rayhan-Doni-Pramana/blob/main/PrakAlgo_4.ipynb\" target=\"_parent\"><img src=\"https://colab.research.google.com/assets/colab-badge.svg\" alt=\"Open In Colab\"/></a>"
      ]
    },
    {
      "cell_type": "code",
      "execution_count": 8,
      "metadata": {
        "colab": {
          "base_uri": "https://localhost:8080/"
        },
        "id": "rpknzMDmqP0G",
        "outputId": "fd939795-740b-4fce-a41c-5ba9a7bee8c7"
      },
      "outputs": [
        {
          "output_type": "stream",
          "name": "stdout",
          "text": [
            "@@@@ @@@@ @   @ @  @ @@@@ @@    @\n",
            "@  @ @  @  @ @  @  @ @  @ @ @   @\n",
            "@@@@ @@@@   @   @@@@ @@@@ @  @  @\n",
            "@ @  @  @   @   @  @ @  @ @   @ @\n",
            "@  @ @  @   @   @  @ @  @ @    @@\n",
            "Masukkan angka awal = 1\n",
            "Masukkan angka akhir = 50\n",
            "1|50\n",
            "2|49\n",
            "3|48\n",
            "4|47\n",
            "5|46\n",
            "6|45\n",
            "7|44\n",
            "8|43\n",
            "9|42\n",
            "10|41\n",
            "11|40\n",
            "12|39\n",
            "13|38\n",
            "14|37\n",
            "15|36\n",
            "16|35\n",
            "17|34\n",
            "18|33\n",
            "19|32\n",
            "20|31\n",
            "21|30\n",
            "22|29\n",
            "23|28\n",
            "24|27\n",
            "25|26\n"
          ]
        }
      ],
      "source": [
        "print('@@@@ @@@@ @   @ @  @ @@@@ @@    @')\n",
        "print('@  @ @  @  @ @  @  @ @  @ @ @   @')\n",
        "print('@@@@ @@@@   @   @@@@ @@@@ @  @  @')\n",
        "print('@ @  @  @   @   @  @ @  @ @   @ @')\n",
        "print('@  @ @  @   @   @  @ @  @ @    @@')\n",
        "# Angka awal dan angka akhir\n",
        "angka_awal = int(input(\"Masukkan angka awal = \"))\n",
        "angka_akhir = int(input(\"Masukkan angka akhir = \"))\n",
        "# Loop untuk menampilkan rentang angka yang berbeda\n",
        "while angka_awal < angka_akhir:\n",
        "    print(f\"{angka_awal}|{angka_akhir}\")\n",
        "    angka_awal += 1\n",
        "    angka_akhir -= 1\n"
      ]
    },
    {
      "cell_type": "code",
      "source": [
        "print('@@@@ @@@@ @   @ @  @ @@@@ @@    @')\n",
        "print('@  @ @  @  @ @  @  @ @  @ @ @   @')\n",
        "print('@@@@ @@@@   @   @@@@ @@@@ @  @  @')\n",
        "print('@ @  @  @   @   @  @ @  @ @   @ @')\n",
        "print('@  @ @  @   @   @  @ @  @ @    @@')\n",
        "# Menerima input dari pengguna untuk total harga belanjaan\n",
        "total_harga = float(input(\"Masukkan total belanjaan = \"))\n",
        "\n",
        "# Menerima input dari pengguna untuk jumlah uang yang diberikan\n",
        "jumlah_uang = float(input(\"Masukkan jumlah uang mu = \"))\n",
        "\n",
        "# Menghitung kembalian\n",
        "uang_kembalian = jumlah_uang - total_harga\n",
        "\n",
        "# Daftar lembar uang dan nilai nominalnya\n",
        "lembar_uang = [\n",
        "    (100000, \"uang Rp100000\"),\n",
        "    (50000, \"uang Rp50000\"),\n",
        "    (20000, \"uang Rp20000\"),\n",
        "    (10000, \"uang Rp10000\"),\n",
        "    (5000, \"uang Rp5000\"),\n",
        "    (2000, \"uang Rp2000\"),\n",
        "    (1000, \"uang Rp1000\"),\n",
        "]\n",
        "nominal = [\n",
        "    (100000),\n",
        "    (50000),\n",
        "    (20000),\n",
        "    (10000),\n",
        "    (5000),\n",
        "    (2000),\n",
        "    (1000),\n",
        "]\n",
        "jumlah_kembalian =jumlah_uang - total_harga\n",
        "\n",
        "# Menghitung jumlah lembar uang yang harus dikembalikan\n",
        "jumlah_lembar_uang = {}\n",
        "for nominal, nama in lembar_uang:\n",
        "    jumlah = int(uang_kembalian / nominal)\n",
        "    if jumlah > 0:\n",
        "        jumlah_lembar_uang[nama] = jumlah\n",
        "        uang_kembalian -= jumlah * nominal\n",
        "\n",
        "# Menampilkan kembalian\n",
        "print(f\"uang Kembalian = {jumlah_kembalian}\")\n",
        "for nama, jumlah in jumlah_lembar_uang.items():\n",
        "    print(f\"{nama} sebanyak : {jumlah} lembar\")\n",
        "\n"
      ],
      "metadata": {
        "colab": {
          "base_uri": "https://localhost:8080/"
        },
        "id": "D7gkhY0JvsoK",
        "outputId": "e470944a-d692-4374-eadb-dc18b80ecfdf"
      },
      "execution_count": 7,
      "outputs": [
        {
          "output_type": "stream",
          "name": "stdout",
          "text": [
            "@@@@ @@@@ @   @ @  @ @@@@ @@    @\n",
            "@  @ @  @  @ @  @  @ @  @ @ @   @\n",
            "@@@@ @@@@   @   @@@@ @@@@ @  @  @\n",
            "@ @  @  @   @   @  @ @  @ @   @ @\n",
            "@  @ @  @   @   @  @ @  @ @    @@\n",
            "Masukkan total belanjaan = 64000\n",
            "Masukkan jumlah uang mu = 100000\n",
            "uang Kembalian = 36000.0\n",
            "uang Rp20000 sebanyak : 1 lembar\n",
            "uang Rp10000 sebanyak : 1 lembar\n",
            "uang Rp5000 sebanyak : 1 lembar\n",
            "uang Rp1000 sebanyak : 1 lembar\n"
          ]
        }
      ]
    }
  ]
}