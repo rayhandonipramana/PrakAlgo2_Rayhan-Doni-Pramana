{
  "nbformat": 4,
  "nbformat_minor": 0,
  "metadata": {
    "colab": {
      "provenance": [],
      "authorship_tag": "ABX9TyPJOWDqFfy7FpZ/+PlZDfyg",
      "include_colab_link": true
    },
    "kernelspec": {
      "name": "python3",
      "display_name": "Python 3"
    },
    "language_info": {
      "name": "python"
    }
  },
  "cells": [
    {
      "cell_type": "markdown",
      "metadata": {
        "id": "view-in-github",
        "colab_type": "text"
      },
      "source": [
        "<a href=\"https://colab.research.google.com/github/rayhandonipramana/PraktikumAlgoritma_Rayhan-Doni-Pramana/blob/main/PrakAlgo7_Elkom3_Rayhan_Doni_Pramana.ipynb\" target=\"_parent\"><img src=\"https://colab.research.google.com/assets/colab-badge.svg\" alt=\"Open In Colab\"/></a>"
      ]
    },
    {
      "cell_type": "code",
      "execution_count": 3,
      "metadata": {
        "colab": {
          "base_uri": "https://localhost:8080/"
        },
        "id": "PtgBSNkg_O6n",
        "outputId": "df434d96-c844-4509-fd7f-19e10f146121"
      },
      "outputs": [
        {
          "output_type": "stream",
          "name": "stdout",
          "text": [
            "@@@@ @@@@ @   @ @  @ @@@@ @@    @\n",
            "@  @ @  @  @ @  @  @ @  @ @ @   @\n",
            "@@@@ @@@@   @   @@@@ @@@@ @  @  @\n",
            "@ @  @  @   @   @  @ @  @ @   @ @\n",
            "@  @ @  @   @   @  @ @  @ @    @@\n",
            "                                 \n",
            "Masukkan angka: 9\n",
            "Hasilnya adalah: 729\n"
          ]
        }
      ],
      "source": [
        "print('@@@@ @@@@ @   @ @  @ @@@@ @@    @')\n",
        "print('@  @ @  @  @ @  @  @ @  @ @ @   @')\n",
        "print('@@@@ @@@@   @   @@@@ @@@@ @  @  @')\n",
        "print('@ @  @  @   @   @  @ @  @ @   @ @')\n",
        "print('@  @ @  @   @   @  @ @  @ @    @@')\n",
        "print(\"                                 \")\n",
        "# Fungsi pertama untuk mengembalikan nilai kubik dari suatu angka\n",
        "def nilai_kubik(angka):\n",
        "    return angka ** 3\n",
        "\n",
        "# Fungsi kedua untuk mengecek apakah angka tersebut habis dibagi 3\n",
        "def cek_pembagian(angka):\n",
        "    if angka % 3 == 0:\n",
        "        return nilai_kubik(angka)\n",
        "    else:\n",
        "        return \"False\"\n",
        "\n",
        "# Meminta pengguna untuk memasukkan angka\n",
        "def main():\n",
        "    angka = int(input(\"Masukkan angka: \"))\n",
        "\n",
        "    # Menjalankan fungsi kedua dan menampilkan hasilnya\n",
        "    hasil = cek_pembagian(angka)\n",
        "    print(\"Hasilnya adalah:\", hasil)\n",
        "\n",
        "# Menjalankan program utama\n",
        "if __name__ == \"__main__\":\n",
        "    main()\n"
      ]
    }
  ]
}