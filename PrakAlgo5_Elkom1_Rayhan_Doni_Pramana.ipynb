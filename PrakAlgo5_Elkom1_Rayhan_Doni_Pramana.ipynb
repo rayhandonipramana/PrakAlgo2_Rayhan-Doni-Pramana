{
  "nbformat": 4,
  "nbformat_minor": 0,
  "metadata": {
    "colab": {
      "provenance": [],
      "authorship_tag": "ABX9TyMynINKoWXjxyfhnmXx3sgt",
      "include_colab_link": true
    },
    "kernelspec": {
      "name": "python3",
      "display_name": "Python 3"
    },
    "language_info": {
      "name": "python"
    }
  },
  "cells": [
    {
      "cell_type": "markdown",
      "metadata": {
        "id": "view-in-github",
        "colab_type": "text"
      },
      "source": [
        "<a href=\"https://colab.research.google.com/github/rayhandonipramana/PraktikumAlgoritma_Rayhan-Doni-Pramana/blob/main/PrakAlgo5_Elkom1_Rayhan_Doni_Pramana.ipynb\" target=\"_parent\"><img src=\"https://colab.research.google.com/assets/colab-badge.svg\" alt=\"Open In Colab\"/></a>"
      ]
    },
    {
      "cell_type": "code",
      "execution_count": 13,
      "metadata": {
        "colab": {
          "base_uri": "https://localhost:8080/"
        },
        "id": "Ba5z1Nt-tjPF",
        "outputId": "2fabbb08-11b7-46bb-a870-6ee7f5c265a9"
      },
      "outputs": [
        {
          "output_type": "stream",
          "name": "stdout",
          "text": [
            "@@@@ @@@@ @   @ @  @ @@@@ @@    @\n",
            "@  @ @  @  @ @  @  @ @  @ @ @   @\n",
            "@@@@ @@@@   @   @@@@ @@@@ @  @  @\n",
            "@ @  @  @   @   @  @ @  @ @   @ @\n",
            "@  @ @  @   @   @  @ @  @ @    @@\n",
            "                                                 \n",
            "Masukkan jumlah bilangan: 7\n",
            "                                                 \n",
            "Masukkan angka pertama: 2\n",
            "                                                \n",
            "Masukkan angka kedua: 1\n",
            "berikut urutannya\n",
            "2\n",
            "berikut urutannya\n",
            "1\n",
            "berikut urutannya\n",
            "3\n",
            "berikut urutannya\n",
            "4\n",
            "berikut urutannya\n",
            "7\n",
            "berikut urutannya\n",
            "11\n",
            "berikut urutannya\n",
            "18\n"
          ]
        }
      ],
      "source": [
        "print('@@@@ @@@@ @   @ @  @ @@@@ @@    @')\n",
        "print('@  @ @  @  @ @  @  @ @  @ @ @   @')\n",
        "print('@@@@ @@@@   @   @@@@ @@@@ @  @  @')\n",
        "print('@ @  @  @   @   @  @ @  @ @   @ @')\n",
        "print('@  @ @  @   @   @  @ @  @ @    @@')\n",
        "# Meminta input dari pengguna\n",
        "print(\"                                                 \")\n",
        "jumlah_bilangan = int(input(\"Masukkan jumlah bilangan: \"))\n",
        "print(\"                                                 \")\n",
        "bilangan_pertama = int(input(\"Masukkan angka pertama: \"))\n",
        "print(\"                                                \")\n",
        "bilangan_kedua = int(input(\"Masukkan angka kedua: \"))\n",
        "\n",
        "# Inisialisasi deret Fibonacci\n",
        "deret_fibonacci = [bilangan_pertama, bilangan_kedua]\n",
        "\n",
        "# Hitung dan tambahkan bilangan-bilangan berikutnya dalam deret Fibonacci\n",
        "for i in range(2, jumlah_bilangan):\n",
        "    next_fibonacci = deret_fibonacci[i - 1] + deret_fibonacci[i - 2]\n",
        "    deret_fibonacci.append(next_fibonacci)\n",
        "\n",
        "# Tampilkan deret Fibonacci\n",
        "for i, bilangan in enumerate(deret_fibonacci):\n",
        "    print(f\"berikut urutannya\\n{bilangan}\")"
      ]
    }
  ]
}