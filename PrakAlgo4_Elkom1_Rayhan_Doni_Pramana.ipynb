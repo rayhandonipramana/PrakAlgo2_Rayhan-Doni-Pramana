{
  "nbformat": 4,
  "nbformat_minor": 0,
  "metadata": {
    "colab": {
      "provenance": [],
      "authorship_tag": "ABX9TyP8mBzbqWapHZXJZj1YNMqT",
      "include_colab_link": true
    },
    "kernelspec": {
      "name": "python3",
      "display_name": "Python 3"
    },
    "language_info": {
      "name": "python"
    }
  },
  "cells": [
    {
      "cell_type": "markdown",
      "metadata": {
        "id": "view-in-github",
        "colab_type": "text"
      },
      "source": [
        "<a href=\"https://colab.research.google.com/github/rayhandonipramana/PraktikumAlgoritma_Rayhan-Doni-Pramana/blob/main/PrakAlgo4_Elkom1_Rayhan_Doni_Pramana.ipynb\" target=\"_parent\"><img src=\"https://colab.research.google.com/assets/colab-badge.svg\" alt=\"Open In Colab\"/></a>"
      ]
    },
    {
      "cell_type": "code",
      "execution_count": 1,
      "metadata": {
        "colab": {
          "base_uri": "https://localhost:8080/"
        },
        "id": "mxd6TIPzuDLz",
        "outputId": "d32d37a0-2cd5-414b-959d-51b9db508bf0"
      },
      "outputs": [
        {
          "output_type": "stream",
          "name": "stdout",
          "text": [
            "@@@@ @@@@ @   @ @  @ @@@@ @@    @\n",
            "@  @ @  @  @ @  @  @ @  @ @ @   @\n",
            "@@@@ @@@@   @   @@@@ @@@@ @  @  @\n",
            "@ @  @  @   @   @  @ @  @ @   @ @\n",
            "@  @ @  @   @   @  @ @  @ @    @@\n",
            "----PROGRAM KONVERSI BILANGAN----\n",
            "        1 -> Angka ke Biner\n",
            "        2 -> Biner ke Angka\n",
            "        3 -> Exit\n",
            "Masukkan pilihan anda-> 1\n",
            "Masukkan angka: 33\n",
            "Angka 33 dalam biner adalah 100001\n",
            "----PROGRAM KONVERSI BILANGAN----\n",
            "        1 -> Angka ke Biner\n",
            "        2 -> Biner ke Angka\n",
            "        3 -> Exit\n",
            "Masukkan pilihan anda-> 2\n",
            "Masukkan biner: 100001\n",
            "33\n",
            "----PROGRAM KONVERSI BILANGAN----\n",
            "        1 -> Angka ke Biner\n",
            "        2 -> Biner ke Angka\n",
            "        3 -> Exit\n",
            "Masukkan pilihan anda-> 3\n",
            "Terimakasih!!!!\n"
          ]
        }
      ],
      "source": [
        "print('@@@@ @@@@ @   @ @  @ @@@@ @@    @')\n",
        "print('@  @ @  @  @ @  @  @ @  @ @ @   @')\n",
        "print('@@@@ @@@@   @   @@@@ @@@@ @  @  @')\n",
        "print('@ @  @  @   @   @  @ @  @ @   @ @')\n",
        "print('@  @ @  @   @   @  @ @  @ @    @@')\n",
        "def desimal_ke_biner(desimal):\n",
        "    if desimal == 0:\n",
        "        return '0'\n",
        "    biner = ''\n",
        "    while desimal > 0:\n",
        "        sisa = desimal % 2\n",
        "        biner = str(sisa) + biner\n",
        "        desimal = desimal // 2\n",
        "    return biner\n",
        "\n",
        "def biner_ke_desimal(biner):\n",
        "    desimal = 0\n",
        "    panjang = len(biner)\n",
        "    for i in range(panjang):\n",
        "        digit = int(biner[i])\n",
        "        desimal += digit * 2 ** (panjang - i - 1)\n",
        "    return desimal\n",
        "\n",
        "while True:\n",
        "    print(\"----PROGRAM KONVERSI BILANGAN----\")\n",
        "    print(\"        1 -> Angka ke Biner\")\n",
        "    print(\"        2 -> Biner ke Angka\")\n",
        "    print(\"        3 -> Exit\")\n",
        "\n",
        "    pilihan = input(\"Masukkan pilihan anda-> \")\n",
        "\n",
        "    if pilihan == '1':\n",
        "        try:\n",
        "            angka = int(input(\"Masukkan angka: \"))\n",
        "            hasil_biner = desimal_ke_biner(angka)\n",
        "            print(f\"Angka {angka} dalam biner adalah {hasil_biner}\")\n",
        "        except ValueError:\n",
        "            print(\"Masukan harus berupa angka desimal.\")\n",
        "    elif pilihan == '2':\n",
        "        biner = input(\"Masukkan biner: \")\n",
        "        if all(digit in '01' for digit in biner):\n",
        "            hasil_desimal = biner_ke_desimal(biner)\n",
        "            print(f\"{hasil_desimal}\")\n",
        "        else:\n",
        "            print(\"Masukan harus berupa bilangan biner (0 dan 1).\")\n",
        "    elif pilihan == '3':\n",
        "        print(\"Terimakasih!!!!\")\n",
        "        break\n",
        "    else:\n",
        "        print(\"Pilihan tidak valid. Silakan pilih 1, 2, atau 3.\")\n"
      ]
    }
  ]
}