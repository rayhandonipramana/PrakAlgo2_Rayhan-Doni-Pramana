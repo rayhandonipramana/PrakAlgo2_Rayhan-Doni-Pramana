{
  "nbformat": 4,
  "nbformat_minor": 0,
  "metadata": {
    "colab": {
      "provenance": [],
      "authorship_tag": "ABX9TyPeAqJhjNZq4E3gtXCrw98H",
      "include_colab_link": true
    },
    "kernelspec": {
      "name": "python3",
      "display_name": "Python 3"
    },
    "language_info": {
      "name": "python"
    }
  },
  "cells": [
    {
      "cell_type": "markdown",
      "metadata": {
        "id": "view-in-github",
        "colab_type": "text"
      },
      "source": [
        "<a href=\"https://colab.research.google.com/github/rayhandonipramana/PraktikumAlgoritma_Rayhan-Doni-Pramana/blob/main/PrakAlgo7_Elkom2_Rayhan_Doni_Pramana.ipynb\" target=\"_parent\"><img src=\"https://colab.research.google.com/assets/colab-badge.svg\" alt=\"Open In Colab\"/></a>"
      ]
    },
    {
      "cell_type": "code",
      "execution_count": 4,
      "metadata": {
        "colab": {
          "base_uri": "https://localhost:8080/"
        },
        "id": "PtgBSNkg_O6n",
        "outputId": "67a44118-3701-44f8-8d1b-a41142e5baf0"
      },
      "outputs": [
        {
          "output_type": "stream",
          "name": "stdout",
          "text": [
            "@@@@ @@@@ @   @ @  @ @@@@ @@    @\n",
            "@  @ @  @  @ @  @  @ @  @ @ @   @\n",
            "@@@@ @@@@   @   @@@@ @@@@ @  @  @\n",
            "@ @  @  @   @   @  @ @  @ @   @ @\n",
            "@  @ @  @   @   @  @ @  @ @    @@\n",
            "                                 \n",
            "Masukkan sesuatu: hellowolrd\n",
            "Jumlah huruf vokal: 3\n",
            "Jumlah huruf konsonan: 7\n"
          ]
        }
      ],
      "source": [
        "print('@@@@ @@@@ @   @ @  @ @@@@ @@    @')\n",
        "print('@  @ @  @  @ @  @  @ @  @ @ @   @')\n",
        "print('@@@@ @@@@   @   @@@@ @@@@ @  @  @')\n",
        "print('@ @  @  @   @   @  @ @  @ @   @ @')\n",
        "print('@  @ @  @   @   @  @ @  @ @    @@')\n",
        "print(\"                                 \")\n",
        "def hitung_vokal_konsonan(kalimat):\n",
        "    vokal = 0\n",
        "    konsonan = 0\n",
        "    for huruf in kalimat:\n",
        "        if huruf.lower() in 'aeiou':\n",
        "            vokal += 1\n",
        "        elif huruf.isalpha():\n",
        "            konsonan += 1\n",
        "\n",
        "    return vokal, konsonan\n",
        "\n",
        "# Meminta pengguna untuk memasukkan string\n",
        "kalimat = input(\"Masukkan sesuatu: \")\n",
        "\n",
        "# Menghitung jumlah huruf vokal dan konsonan\n",
        "jumlah_vokal, jumlah_konsonan = hitung_vokal_konsonan(kalimat)\n",
        "\n",
        "# Menampilkan hasil\n",
        "print(f\"Jumlah huruf vokal: {jumlah_vokal}\")\n",
        "print(f\"Jumlah huruf konsonan: {jumlah_konsonan}\")\n"
      ]
    }
  ]
}