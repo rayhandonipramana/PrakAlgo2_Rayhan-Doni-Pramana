{
  "nbformat": 4,
  "nbformat_minor": 0,
  "metadata": {
    "colab": {
      "provenance": []
    },
    "kernelspec": {
      "name": "python3",
      "display_name": "Python 3"
    },
    "language_info": {
      "name": "python"
    }
  },
  "cells": [
    {
      "cell_type": "code",
      "execution_count": 38,
      "metadata": {
        "colab": {
          "base_uri": "https://localhost:8080/"
        },
        "id": "lyouQ3LEqQf3",
        "outputId": "86ccbadd-cb31-4757-cb0c-8eb4817e0e42"
      },
      "outputs": [
        {
          "output_type": "stream",
          "name": "stdout",
          "text": [
            "@@@@ @@@@ @   @ @  @ @@@@ @@    @\n",
            "@  @ @  @  @ @  @  @ @  @ @ @   @\n",
            "@@@@ @@@@   @   @@@@ @@@@ @  @  @\n",
            "@ @  @  @   @   @  @ @  @ @   @ @\n",
            "@  @ @  @   @   @  @ @  @ @    @@\n",
            "\n",
            " \n",
            "\n",
            "Menghitung Pytagoras\n",
            "a.) menghitung sisi a\n",
            "b.) menghitung sisi b\n",
            "c.) menghitung sisi c\n",
            "\n",
            " \n",
            "\n",
            "masukan opsi : a\n",
            "\n",
            " \n",
            "\n",
            "Masukan sisi b : 2\n",
            "Masukan sisi c : 1\n",
            "Nilai c harus lebih besar atau sama dengan nilai b.\n",
            "Masukkan nilai sisi c: 5\n",
            "Sisi a = 4.58257569495584\n"
          ]
        }
      ],
      "source": [
        "print('@@@@ @@@@ @   @ @  @ @@@@ @@    @')\n",
        "print('@  @ @  @  @ @  @  @ @  @ @ @   @')\n",
        "print('@@@@ @@@@   @   @@@@ @@@@ @  @  @')\n",
        "print('@ @  @  @   @   @  @ @  @ @   @ @')\n",
        "print('@  @ @  @   @   @  @ @  @ @    @@')\n",
        "print(\"\\n \\n\")\n",
        "\n",
        "import math\n",
        "\n",
        "def hitung_a(b, c):\n",
        "    return math.sqrt(c**2 - b**2)\n",
        "\n",
        "def hitung_b(a, c):\n",
        "    return math.sqrt(c**2 - a**2)\n",
        "\n",
        "def hitung_c(a, b):\n",
        "    return math.sqrt(a**2 + b**2)\n",
        "\n",
        "def main():\n",
        "    print(\"Menghitung Pytagoras\")\n",
        "    print(\"a.) menghitung sisi a\")\n",
        "    print(\"b.) menghitung sisi b\")\n",
        "    print(\"c.) menghitung sisi c\")\n",
        "    print(\"\\n \\n\")\n",
        "\n",
        "    opsi = str(input(\"masukan opsi : \"))\n",
        "    print(\"\\n \\n\")\n",
        "\n",
        "    #menghitung sisi a\n",
        "    if opsi == \"a\":\n",
        "        b = float(input(\"Masukan sisi b : \"))\n",
        "        c = float(input(\"Masukan sisi c : \"))\n",
        "        while c < b:\n",
        "            print(\"Nilai c harus lebih besar atau sama dengan nilai b.\")\n",
        "            c = float(input(\"Masukkan nilai sisi c: \"))\n",
        "        sisi_a = hitung_a(b, c)\n",
        "        print(f\"Sisi a = {sisi_a}\")\n",
        "    #mengitung sisi b\n",
        "    elif opsi == \"b\":\n",
        "        a = float(input(\"masukan sisi a : \"))\n",
        "        c = float(input(\"masukan sisi c : \"))\n",
        "        while c < a:\n",
        "            print(\"Nilai c harus lebih besar atau sama dengan nilai a.\")\n",
        "            c = float(input(\"Masukkan nilai sisi c: \"))\n",
        "        sisi_b = hitung_b(a, c)\n",
        "        print(f\"Sisi b = {sisi_b}\")\n",
        "    #menghitung sisi c\n",
        "    elif opsi == \"c\":\n",
        "        a = float(input(\"masukan sisi a : \"))\n",
        "        b = float(input(\"masukan sisi b : \"))\n",
        "        sisi_c =  hitung_c(a, b)\n",
        "        print(\"sisi c = \", sisi_c)\n",
        "    else:\n",
        "        print(\"opsi tidak valid.\")\n",
        "\n",
        "if __name__ == \"__main__\":\n",
        "    main()\n",
        ""
      ]
    }
  ]
}