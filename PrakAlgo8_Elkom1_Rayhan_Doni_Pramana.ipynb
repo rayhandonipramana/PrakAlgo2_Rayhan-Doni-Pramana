{
  "nbformat": 4,
  "nbformat_minor": 0,
  "metadata": {
    "colab": {
      "provenance": [],
      "authorship_tag": "ABX9TyMll37MZ7lLvoKcxup17+wo",
      "include_colab_link": true
    },
    "kernelspec": {
      "name": "python3",
      "display_name": "Python 3"
    },
    "language_info": {
      "name": "python"
    }
  },
  "cells": [
    {
      "cell_type": "markdown",
      "metadata": {
        "id": "view-in-github",
        "colab_type": "text"
      },
      "source": [
        "<a href=\"https://colab.research.google.com/github/rayhandonipramana/PraktikumAlgoritma_Rayhan-Doni-Pramana/blob/main/PrakAlgo8_Elkom1_Rayhan_Doni_Pramana.ipynb\" target=\"_parent\"><img src=\"https://colab.research.google.com/assets/colab-badge.svg\" alt=\"Open In Colab\"/></a>"
      ]
    },
    {
      "cell_type": "code",
      "execution_count": 10,
      "metadata": {
        "colab": {
          "base_uri": "https://localhost:8080/"
        },
        "id": "8CgQCBJSzG4P",
        "outputId": "bee570e2-54ce-413a-c489-9fe0d06d7344"
      },
      "outputs": [
        {
          "output_type": "stream",
          "name": "stdout",
          "text": [
            "@@@@ @@@@ @   @ @  @ @@@@ @@    @\n",
            "@  @ @  @  @ @  @  @ @  @ @ @   @\n",
            "@@@@ @@@@   @   @@@@ @@@@ @  @  @\n",
            "@ @  @  @   @   @  @ @  @ @   @ @\n",
            "@  @ @  @   @   @  @ @  @ @    @@\n",
            "Masukkan sebuah kata : algoritmadasar\n",
            "Karakter Indeks Ganjil : loimdsr\n"
          ]
        }
      ],
      "source": [
        "print('@@@@ @@@@ @   @ @  @ @@@@ @@    @')\n",
        "print('@  @ @  @  @ @  @  @ @  @ @ @   @')\n",
        "print('@@@@ @@@@   @   @@@@ @@@@ @  @  @')\n",
        "print('@ @  @  @   @   @  @ @  @ @   @ @')\n",
        "print('@  @ @  @   @   @  @ @  @ @    @@')\n",
        "def karakter_indeks_ganjil(kata):\n",
        "    # Mengambil karakter pada indeks ganjil\n",
        "    karakter_ganjil = kata[1::2]\n",
        "    return karakter_ganjil\n",
        "\n",
        "# Meminta pengguna untuk memasukkan kata\n",
        "kata_input = input(\"Masukkan sebuah kata : \")\n",
        "\n",
        "# Memanggil fungsi untuk menampilkan karakter pada indeks ganjil\n",
        "hasil = karakter_indeks_ganjil(kata_input)\n",
        "print(\"Karakter Indeks Ganjil :\", hasil)\n"
      ]
    }
  ]
}