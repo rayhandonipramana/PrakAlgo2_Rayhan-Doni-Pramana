{
  "nbformat": 4,
  "nbformat_minor": 0,
  "metadata": {
    "colab": {
      "provenance": [],
      "authorship_tag": "ABX9TyNsnLLQnlv0Dm+Ar+5toMl0",
      "include_colab_link": true
    },
    "kernelspec": {
      "name": "python3",
      "display_name": "Python 3"
    },
    "language_info": {
      "name": "python"
    }
  },
  "cells": [
    {
      "cell_type": "markdown",
      "metadata": {
        "id": "view-in-github",
        "colab_type": "text"
      },
      "source": [
        "<a href=\"https://colab.research.google.com/github/rayhandonipramana/PraktikumAlgoritma_Rayhan-Doni-Pramana/blob/main/PrakAlgo13_Elkom1_3_Rayhan_Doni_Pramana.ipynb\" target=\"_parent\"><img src=\"https://colab.research.google.com/assets/colab-badge.svg\" alt=\"Open In Colab\"/></a>"
      ]
    },
    {
      "cell_type": "code",
      "execution_count": 21,
      "metadata": {
        "colab": {
          "base_uri": "https://localhost:8080/"
        },
        "id": "O8LYgUe6he95",
        "outputId": "c5eaee2c-53e2-4e4d-9529-32b65f7f64c5"
      },
      "outputs": [
        {
          "output_type": "stream",
          "name": "stdout",
          "text": [
            "Rata-rata nilai kelas: 86.60\n",
            "Siswa yang mendapat nilai di atas rata-rata: [90, 92, 88]\n"
          ]
        }
      ],
      "source": [
        "# Nilai ujian setiap siswa\n",
        "nilai_siswa = [85, 90, 78, 92, 88]\n",
        "\n",
        "# Menghitung rata-rata nilai kelas\n",
        "rata_rata_kelas = sum(nilai_siswa) / len(nilai_siswa)\n",
        "\n",
        "# Menentukan siswa yang mendapat nilai di atas rata-rata\n",
        "siswa_di_atas_rata = [nilai for nilai in nilai_siswa if nilai > rata_rata_kelas]\n",
        "\n",
        "print(f\"Rata-rata nilai kelas: {rata_rata_kelas:.2f}\")\n",
        "print(f\"Siswa yang mendapat nilai di atas rata-rata: {siswa_di_atas_rata}\")\n"
      ]
    },
    {
      "cell_type": "code",
      "source": [
        "# Meminta input jumlah uang dalam Rupiah\n",
        "jumlah_uang_rupiah = float(input(\"Masukkan jumlah uang dalam Rupiah: \"))\n",
        "\n",
        "# Meminta input kurs dolar terhadap rupiah\n",
        "kurs_dolar_rupiah = float(input(\"Masukkan kurs dolar terhadap Rupiah: \"))\n",
        "\n",
        "# Menghitung jumlah uang dalam Dolar\n",
        "jumlah_uang_dolar = jumlah_uang_rupiah / kurs_dolar_rupiah\n",
        "\n",
        "print(f\"Jumlah uang dalam Dolar: ${jumlah_uang_dolar:.2f}\")\n"
      ],
      "metadata": {
        "colab": {
          "base_uri": "https://localhost:8080/"
        },
        "id": "EYg-wfhIidJY",
        "outputId": "e3a59a79-b359-46a7-a70b-45806c833dfc"
      },
      "execution_count": 7,
      "outputs": [
        {
          "output_type": "stream",
          "name": "stdout",
          "text": [
            "Masukkan jumlah uang dalam Rupiah: 50000\n",
            "Masukkan kurs dolar terhadap Rupiah: 15600\n",
            "Jumlah uang dalam Dolar: $3.21\n"
          ]
        }
      ]
    },
    {
      "cell_type": "code",
      "source": [
        "proyek_list = [\n",
        "    {\"nama\": \"proyek A\", \"status\": \"selesai\", \"estimasi_waktu\": 10},\n",
        "    {\"nama\": \"proyek B\", \"status\": \"Dalam Pengerjaan\", \"estimasi_waktu\": 20},\n",
        "    {\"nama\": \"proyek C\", \"status\": \"Dalam Pengerjaan\", \"estimasi_waktu\": 15},\n",
        "    {\"nama\": \"proyek D\", \"status\": \"selesai\", \"estimasi_waktu\": 8},\n",
        "]\n",
        "\n",
        "proyek_dalam_pengerjaan = [proyek for proyek in proyek_list if proyek[\"status\"] == \"Dalam Pengerjaan\"]\n",
        "\n",
        "def bubble_sort_proyek(proyek_list):\n",
        "  n = len(proyek_list)\n",
        "  for i in range(n - 1):\n",
        "    for j in range(0, n - i - 1):\n",
        "      if proyek_list[j][\"estimasi_waktu\"] > proyek_list[j + 1][\"estimasi_waktu\"]:\n",
        "           proyek_list[j], proyek_list[j + 1] = proyek_list[j + 1], proyek_list[j]\n",
        "print(\"proyek yang masih dalam pengerjaan:\")\n",
        "for proyek in proyek_dalam_pengerjaan:\n",
        "    print(f\"nama: {proyek['nama']}, estimasi waktu: {proyek['estimasi_waktu']} hari, status: {proyek['status']}\")\n",
        "\n",
        "bubble_sort_proyek(proyek_dalam_pengerjaan)\n",
        "\n",
        "print(\"\\nProyek dalam pengerjaan yang diurutkan berdasarkan estimasi waktu:\")\n",
        "for proyek in proyek_dalam_pengerjaan:\n",
        "    print(f\"Nama: {proyek['nama']}, estimasi waktu: {proyek['estimasi_waktu']} hari, status:{proyek['status']}\")\n"
      ],
      "metadata": {
        "colab": {
          "base_uri": "https://localhost:8080/"
        },
        "id": "3iE55_v1nWq5",
        "outputId": "c441eaf2-bf09-4eea-8123-84c373b94246"
      },
      "execution_count": 5,
      "outputs": [
        {
          "output_type": "stream",
          "name": "stdout",
          "text": [
            "proyek yang masih dalam pengerjaan:\n",
            "nama: proyek B, estimasi waktu: 20 hari, status: Dalam Pengerjaan\n",
            "nama: proyek C, estimasi waktu: 15 hari, status: Dalam Pengerjaan\n",
            "\n",
            "Proyek dalam pengerjaan yang diurutkan berdasarkan estimasi waktu:\n",
            "Nama: proyek C, estimasi waktu: 15 hari, status:Dalam Pengerjaan\n",
            "Nama: proyek B, estimasi waktu: 20 hari, status:Dalam Pengerjaan\n"
          ]
        }
      ]
    }
  ]
}