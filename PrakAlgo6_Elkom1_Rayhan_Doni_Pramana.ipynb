{
  "nbformat": 4,
  "nbformat_minor": 0,
  "metadata": {
    "colab": {
      "provenance": [],
      "authorship_tag": "ABX9TyNhWJYuwarr/XhUQHn/ZQNs",
      "include_colab_link": true
    },
    "kernelspec": {
      "name": "python3",
      "display_name": "Python 3"
    },
    "language_info": {
      "name": "python"
    }
  },
  "cells": [
    {
      "cell_type": "markdown",
      "metadata": {
        "id": "view-in-github",
        "colab_type": "text"
      },
      "source": [
        "<a href=\"https://colab.research.google.com/github/rayhandonipramana/PraktikumAlgoritma_Rayhan-Doni-Pramana/blob/main/PrakAlgo6_Elkom1_Rayhan_Doni_Pramana.ipynb\" target=\"_parent\"><img src=\"https://colab.research.google.com/assets/colab-badge.svg\" alt=\"Open In Colab\"/></a>"
      ]
    },
    {
      "cell_type": "code",
      "execution_count": 17,
      "metadata": {
        "colab": {
          "base_uri": "https://localhost:8080/"
        },
        "id": "KKHsDCR-4TuY",
        "outputId": "9b834cf9-95c0-4ecc-8e9a-8bf8297363ca"
      },
      "outputs": [
        {
          "output_type": "stream",
          "name": "stdout",
          "text": [
            "@@@@ @@@@ @   @ @  @ @@@@ @@    @\n",
            "@  @ @  @  @ @  @  @ @  @ @ @   @\n",
            "@@@@ @@@@   @   @@@@ @@@@ @  @  @\n",
            "@ @  @  @   @   @  @ @  @ @   @ @\n",
            "@  @ @  @   @   @  @ @  @ @    @@\n",
            "GENAP -> Perpindahan (Diketahui v0 konstan)\n",
            "Masukkan v0 = 45\n",
            "Masukkan a = 50\n",
            "Masukkan s = 22\n",
            "Jarak tempuh jika kecepatan awal adalah 45 dengan percepatan 50 dan jarak tempuh 22 adalah 64.21374183841087\n"
          ]
        }
      ],
      "source": [
        "print('@@@@ @@@@ @   @ @  @ @@@@ @@    @')\n",
        "print('@  @ @  @  @ @  @  @ @  @ @ @   @')\n",
        "print('@@@@ @@@@   @   @@@@ @@@@ @  @  @')\n",
        "print('@ @  @  @   @   @  @ @  @ @   @ @')\n",
        "print('@  @ @  @   @   @  @ @  @ @    @@')\n",
        "import math\n",
        "\n",
        "print(\"GENAP -> Perpindahan (Diketahui v0 konstan)\")\n",
        "# Meminta masukan dari pengguna\n",
        "v0 = int(input(\"Masukkan v0 = \"))\n",
        "a = int(input(\"Masukkan a = \"))\n",
        "s = int(input(\"Masukkan s = \"))\n",
        "\n",
        "# Menghitung waktu (t) menggunakan rumus s = (1/2) * a * t^2\n",
        "t = math.sqrt((2 * s) / a)\n",
        "\n",
        "# Menghitung jarak tempuh (s) menggunakan rumus s = v0 * t + (1/2) * a * t^2\n",
        "distance = v0 * t + (1/2 * a * t ** 2)\n",
        "\n",
        "# Mencetak jarak tempuh\n",
        "print(\"Jarak tempuh jika kecepatan awal adalah\", v0, \"dengan percepatan\", a, \"dan jarak tempuh\", s, \"adalah\", distance,)\n"
      ]
    }
  ]
}