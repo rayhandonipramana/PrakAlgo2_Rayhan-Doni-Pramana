{
  "nbformat": 4,
  "nbformat_minor": 0,
  "metadata": {
    "colab": {
      "provenance": [],
      "authorship_tag": "ABX9TyMK7ZqRMAmzTEFfl/0+yyBE",
      "include_colab_link": true
    },
    "kernelspec": {
      "name": "python3",
      "display_name": "Python 3"
    },
    "language_info": {
      "name": "python"
    }
  },
  "cells": [
    {
      "cell_type": "markdown",
      "metadata": {
        "id": "view-in-github",
        "colab_type": "text"
      },
      "source": [
        "<a href=\"https://colab.research.google.com/github/rayhandonipramana/PraktikumAlgoritma_Rayhan-Doni-Pramana/blob/main/PrakAlgo12_Elkom1_Rayhan_Doni_Pramana.ipynb\" target=\"_parent\"><img src=\"https://colab.research.google.com/assets/colab-badge.svg\" alt=\"Open In Colab\"/></a>"
      ]
    },
    {
      "cell_type": "code",
      "execution_count": 1,
      "metadata": {
        "colab": {
          "base_uri": "https://localhost:8080/"
        },
        "id": "DGCnCLIKZ6QK",
        "outputId": "e798760f-80d2-4b28-e665-5c17660c9736"
      },
      "outputs": [
        {
          "output_type": "stream",
          "name": "stdout",
          "text": [
            "@@@@ @@@@ @   @ @  @ @@@@ @@    @\n",
            "@  @ @  @  @ @  @  @ @  @ @ @   @\n",
            "@@@@ @@@@   @   @@@@ @@@@ @  @  @\n",
            "@ @  @  @   @   @  @ @  @ @   @ @\n",
            "@  @ @  @   @   @  @ @  @ @    @@\n",
            "berapa rangenya? 4\n",
            "masukan angka ke 1:56\n",
            "masukan angka ke 2:13\n",
            "masukan angka ke 3:79\n",
            "masukan angka ke 4:45\n",
            "[13, 45, 56, 79]\n"
          ]
        }
      ],
      "source": [
        "print('@@@@ @@@@ @   @ @  @ @@@@ @@    @')\n",
        "print('@  @ @  @  @ @  @  @ @  @ @ @   @')\n",
        "print('@@@@ @@@@   @   @@@@ @@@@ @  @  @')\n",
        "print('@ @  @  @   @   @  @ @  @ @   @ @')\n",
        "print('@  @ @  @   @   @  @ @  @ @    @@')\n",
        "list=[]\n",
        "minta=int(input('berapa rangenya? '))\n",
        "for i in range(minta):\n",
        "    i+=1\n",
        "    list.append(int(input(f'masukan angka ke {i}:')))\n",
        "print(sorted(list))"
      ]
    }
  ]
}